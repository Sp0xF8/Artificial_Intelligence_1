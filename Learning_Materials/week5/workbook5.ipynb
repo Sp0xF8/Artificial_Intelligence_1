{
 "cells": [
  {
   "cell_type": "markdown",
   "metadata": {},
   "source": [
    "# Artificial Intelligence 1 Week 5 Practical\n",
    "### Goals\n",
    "This session is designed to give you experience of the numpy library in python.\n",
    "\n",
    "Numpy is the foundation of practical machine learning and data science:\n",
    "\n",
    "\n",
    "### By the end of this session you should be able to:\n",
    "\n",
    "- create simple 2-dimensional numpy arrays filled with zeros, ones or empty\n",
    "- do 'data slicing' to extract different 'views' from a numpy array\n",
    "- use functions like shape() to access the sizew of the array\n",
    "- use simple functions like min() max() and mean() to get statistics about the whole arrays, or particular rows and columns in it\n",
    "\n",
    "### Before next week you should have\n",
    "- Completed the exercises below for the Iris dataset\n",
    "- Expanded the domain-specific knowledge contents of your revision bot with definitions and examples for all the other key concepts covered so far.\n",
    "\n",
    "### Additional Resources\n",
    "There is lots of help available for working with numpy- if in doubt, just google your error!\n",
    "\n",
    "- this has lots of good illustrations and is a five minute read up to \"Data Representation\": http://jalammar.github.io/visual-numpy/\n",
    "\n",
    "- this is a great quick start guide to numpy:\n",
    "  - https://numpy.org/doc/stable/user/quickstart.html\n",
    "  \n",
    "\n",
    "- this is a longer walk through but very professional produced with exampels otrun and try : https://www.w3schools.com/python/numpy/numpy_intro.asp\n",
    "\n",
    "- this ia a good read recommended by Nathan: \n",
    "\n",
    " "
   ]
  },
  {
   "cell_type": "markdown",
   "metadata": {},
   "source": [
    "# Accessing data from  Python numpy arrays\n",
    "<img src=\"slicing.png\" style=\"float:right\"><div class=\"alert alert-block alert-info\"> <b>ASIDE: Python arrays and slicing:</b> Python has a <b>numpy</b> module with lots of useful code for doing math, and creating and manipulating arrays of data <br>If we have a 2D numpy array X  we can select just parts of it - i.e. groups of rows, or colums, by \"slicing\". <br>  We specify the range of rows we want, then the range of columns using X[startRow: endRow, startCol: endCol] <br>\n",
    "    <ul>\n",
    "        <li><b>the endRow and endCol are not included in the slice.</b></li>\n",
    "    <li> If start or end are empty, then the slices goes right from the start or right to the end</li>\n",
    "    <li> if the start is empty and the end is negative, the slices comes from the end of the row/column</li>\n",
    "    </ul> \n",
    "<b>Example 1:</b>. If we put the letters of my name into a 1-D array  then we can pick out what we want as shown in the cell below. <br>\n",
    "<b>Example 2</b> (also in the cell below) If we have all the tutors names we could pick out just one row,  or the nth letter in all their names. <br><b>Example 3</b>, if (as in the iris data in this tutorial) X has 150 rows and 4 columns then:\n",
    " <ul>\n",
    "     <li> A = X[ 0 : 50 , :].  A is a 2d array containing the first 50 rows, and all 4 columns</li>\n",
    "     <li> B = X[ : , 3:].   B is a 1D array with 150 rows and  the columns 3 and onwards (in this case, it is just the last)<br>\n",
    "     <li> C = X[ 0: 2, 0:4] C is a 2D array with 3 rows and 4 columns <br></div>"
   ]
  },
  {
   "cell_type": "code",
   "execution_count": 2,
   "metadata": {},
   "outputs": [
    {
     "name": "stdout",
     "output_type": "stream",
     "text": [
      "Declaring a 1d array\n",
      "['j' 'i' 'm' ' ' 's' 'm' 'i' 't' 'h']\n",
      "extracting a range of values from a 1-D array:\n",
      "['j' 'i' 'm']\n",
      "\n",
      " Declaring a  a 2D array:\n",
      "[['j' 'i' 'm' ' ' 's' 'm' 'i' 't' 'h' ' ' ' ' ' ']\n",
      " ['c' 'h' 'r' 'i' 's' ' ' 's' 'i' 'm' 'o' 'n' 's']\n",
      " ['n' 'a' 't' 'h' 'a' 'n' ' ' 'd' 'u' 'r' 'a' 'n']]\n",
      "Extracting the a row from a 2D array - in this cas the second\n",
      "['c' 'h' 'r' 'i' 's' ' ' 's' 'i' 'm' 'o' 'n' 's']\n",
      "Extracting a range of columns from every row of a 2D array\n",
      "[['i' 'm' ' ' 's']\n",
      " ['h' 'r' 'i' 's']\n",
      " ['a' 't' 'h' 'a']]\n",
      "extracting a specific block of data from a 2D array\n",
      "['d' 'u' 'r' 'a' 'n']\n"
     ]
    }
   ],
   "source": [
    "import numpy as np\n",
    "\n",
    "#Example 1\n",
    "print('Declaring a 1d array')\n",
    "jimsName = np.array ( ['j','i','m',' ','s','m','i','t','h'])\n",
    "print(jimsName)\n",
    "print('extracting a range of values from a 1-D array:')\n",
    "print( jimsName[0:3])\n",
    "\n",
    "# Example 2\n",
    "print('\\n Declaring a  a 2D array:')\n",
    "tutorsNames = np.array([['j','i','m',' ','s','m','i','t','h',' ',' ',' '], \n",
    "                        ['c','h','r','i','s',' ','s','i','m','o','n','s'], \n",
    "                        ['n','a','t','h','a','n',' ','d','u','r','a','n']],dtype=str)\n",
    "print(tutorsNames)\n",
    "\n",
    "print('Extracting the a row from a 2D array - in this cas the second')\n",
    "print(tutorsNames[1, : ])   # every column of the second row\n",
    "\n",
    "print('Extracting a range of columns from every row of a 2D array')\n",
    "print(tutorsNames[ :, 1:5])\n",
    "\n",
    "# This example uses negative index to read from the end of a slice\n",
    "print('extracting a specific block of data from a 2D array')\n",
    "print(tutorsNames[2,-5:])"
   ]
  },
  {
   "cell_type": "code",
   "execution_count": null,
   "metadata": {},
   "outputs": [],
   "source": []
  },
  {
   "cell_type": "markdown",
   "metadata": {},
   "source": [
    "<div class=\"alert alert-block alert-warning\", style=\"color:black\">\n",
    "     <h1> Activity 1</h1>\n",
    "Create and print the following:<ol>\n",
    "    <li> an array with 3 columns and 2 rows, all filled with zeros</li>\n",
    "    <li> an array with 3 rows and 2 columns all filld with ones</li>\n",
    "<li> an array with 8 rows and 8 columns filled with alternating 1s and 0s in a checkerboard pattern.<br>\n",
    "    HINT: start with an array of zeros then use slicing to put the ones in place</li>\n",
    "</ol>\n",
    "                                                                   </div>\n"
   ]
  },
  {
   "cell_type": "code",
   "execution_count": 4,
   "metadata": {},
   "outputs": [
    {
     "name": "stdout",
     "output_type": "stream",
     "text": [
      "[[0. 0. 0.]\n",
      " [0. 0. 0.]]\n"
     ]
    }
   ],
   "source": [
    "myArr = np.zeros((2,3))\n",
    "print(myArr)"
   ]
  },
  {
   "cell_type": "code",
   "execution_count": 6,
   "metadata": {},
   "outputs": [
    {
     "name": "stdout",
     "output_type": "stream",
     "text": [
      "[[1. 1.]\n",
      " [1. 1.]\n",
      " [1. 1.]]\n"
     ]
    }
   ],
   "source": [
    "myArr2 = np.ones((3,2))\n",
    "print(myArr2)"
   ]
  },
  {
   "cell_type": "code",
   "execution_count": 16,
   "metadata": {},
   "outputs": [
    {
     "name": "stdout",
     "output_type": "stream",
     "text": [
      "[[0 1 0 1 0 1 0 1]\n",
      " [1 0 1 0 1 0 1 0]\n",
      " [0 1 0 1 0 1 0 1]\n",
      " [1 0 1 0 1 0 1 0]\n",
      " [0 1 0 1 0 1 0 1]\n",
      " [1 0 1 0 1 0 1 0]\n",
      " [0 1 0 1 0 1 0 1]\n",
      " [1 0 1 0 1 0 1 0]]\n"
     ]
    }
   ],
   "source": [
    "\n",
    "myArr4 = np.zeros((8,8), dtype=int)\n",
    "myArr4[1::2, ::2] = 1\n",
    "myArr4[::2, 1::2] = 1\n",
    "print(myArr4)"
   ]
  },
  {
   "cell_type": "markdown",
   "metadata": {
    "pycharm": {
     "name": "#%% md\n"
    }
   },
   "source": [
    "<div class=\"alert alert-block alert-danger\"> Please save your work (click the save icon) then shutdown the notebook when you have finished with this tutorial (menu->file->close and shutdown notebook</div>\n",
    "\n",
    "<div class=\"alert alert-block alert-danger\"> Remember to download and save your work if you are not running this notebook locally.</div>\n",
    "\n",
    "\n"
   ]
  },
  {
   "cell_type": "code",
   "execution_count": null,
   "metadata": {},
   "outputs": [],
   "source": []
  }
 ],
 "metadata": {
  "kernelspec": {
   "display_name": "Python 3 (ipykernel)",
   "language": "python",
   "name": "python3"
  },
  "language_info": {
   "codemirror_mode": {
    "name": "ipython",
    "version": 3
   },
   "file_extension": ".py",
   "mimetype": "text/x-python",
   "name": "python",
   "nbconvert_exporter": "python",
   "pygments_lexer": "ipython3",
   "version": "3.9.6"
  }
 },
 "nbformat": 4,
 "nbformat_minor": 4
}
